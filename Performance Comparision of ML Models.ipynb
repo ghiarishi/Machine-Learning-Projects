{
  "cells": [
    {
      "cell_type": "code",
      "execution_count": null,
      "metadata": {
        "id": "mqy1LtZCIQuG"
      },
      "outputs": [],
      "source": [
        "import numpy as np\n",
        "import math\n",
        "import matplotlib.pyplot as plt\n",
        "import operator\n",
        "from sklearn.metrics import accuracy_score\n",
        "import sklearn.model_selection as ms\n",
        "\n",
        "\n",
        "from sklearn.ensemble import RandomForestClassifier\n",
        "from sklearn.svm import SVC\n",
        "from sklearn.neural_network import MLPClassifier\n",
        "from sklearn.tree import DecisionTreeClassifier\n",
        "from sklearn.ensemble import AdaBoostClassifier\n"
      ]
    },
    {
      "cell_type": "code",
      "execution_count": null,
      "metadata": {
        "colab": {
          "base_uri": "https://localhost:8080/"
        },
        "id": "5qmuIim2IQuK",
        "outputId": "af5c88a7-450f-466e-b6a8-0ef95bcc5e47"
      },
      "outputs": [
        {
          "name": "stdout",
          "output_type": "stream",
          "text": [
            "(1797, 64)\n"
          ]
        }
      ],
      "source": [
        "\"\"\"\n",
        "Load data (MNIST digits dataset).\n",
        "\n",
        "Note that we will skip the validation phase for this \n",
        "\"\"\"\n",
        "\n",
        "from sklearn.datasets import load_digits\n",
        "digits = load_digits()\n",
        "print(digits.data.shape)\n",
        "\n",
        "X = digits['data']\n",
        "y = digits['target']\n",
        "\n",
        "np.random.seed(100)\n",
        "p = np.random.permutation(len(X))\n",
        "X, y = X[p], y[p]\n",
        "\n",
        "X_train, y_train = X[:1500], y[:1500]\n",
        "X_test, y_test = X[1500:], y[1500:]\n"
      ]
    },
    {
      "cell_type": "markdown",
      "metadata": {
        "id": "XmURULzoXCvq"
      },
      "source": [
        "# Performance Comparisons for three ML algorithms"
      ]
    },
    {
      "cell_type": "markdown",
      "metadata": {
        "id": "BulL-miy2W1a"
      },
      "source": [
        "## Accuracy"
      ]
    },
    {
      "cell_type": "code",
      "execution_count": null,
      "metadata": {
        "id": "En_czqit2Wip"
      },
      "outputs": [],
      "source": [
        "def train(models, X_train, y_train, X_test, y_test):\n",
        "  \"\"\"\n",
        "  Trains several models and returns the test accuracy for each of them\n",
        "  Args:\n",
        "      models: list of model objects\n",
        "  Returns:\n",
        "      score (float): list of accuracies of the different fitted models on test set\n",
        "  \"\"\"\n",
        "\n",
        "  accuracies = []\n",
        "  for model in models: \n",
        "      model.fit(X_train, y_train)\n",
        "      model.predict(X_test)\n",
        "      accuracies.append(model.score(X_test, y_test))\n",
        "  return accuracies\n"
      ]
    },
    {
      "cell_type": "markdown",
      "metadata": {
        "id": "z_EG5SVkxrzs"
      },
      "source": [
        "## 2.1 Random Forest Classifier"
      ]
    },
    {
      "cell_type": "code",
      "execution_count": null,
      "metadata": {
        "colab": {
          "base_uri": "https://localhost:8080/"
        },
        "id": "9KC2aNmoXCvr",
        "outputId": "03e70a86-fabf-45fb-81f7-4372054eef19"
      },
      "outputs": [
        {
          "name": "stdout",
          "output_type": "stream",
          "text": [
            "[0.7373737373737373, 0.9259259259259259, 0.9528619528619529, 0.9663299663299664, 0.9764309764309764, 0.9764309764309764, 0.9764309764309764]\n"
          ]
        }
      ],
      "source": [
        "def modelRF(n_estimators):\n",
        "  \"\"\"\n",
        "  Creates model objects for the Random Forest Classifier.\n",
        "  Args:\n",
        "    n_estimators: list of hyper parameters\n",
        "  return:\n",
        "    list of classifiers\n",
        "  \"\"\"\n",
        "  \n",
        "  list_n_estimators = n_estimators\n",
        "  random_state = 20 # Do not change this random_state\n",
        "\n",
        "\n",
        "  objs_RFC = []\n",
        "  \n",
        "  for estimator in list_n_estimators:\n",
        "      objs_RFC.append(RandomForestClassifier(n_estimators = estimator, random_state = 20))\n",
        "  return objs_RFC\n",
        " \n",
        "\n",
        "n_estimators = [1, 5, 10, 50, 100, 500]\n",
        "scores = train(modelRF(n_estimators), X_train, y_train, X_test, y_test)\n",
        "print(scores)"
      ]
    },
    {
      "cell_type": "markdown",
      "metadata": {
        "id": "oJrNWsSgz6yh"
      },
      "source": [
        "## 2.2 Kernel SVM"
      ]
    },
    {
      "cell_type": "code",
      "execution_count": null,
      "metadata": {
        "colab": {
          "base_uri": "https://localhost:8080/"
        },
        "id": "ZLg9s5T4pAus",
        "outputId": "cebab690-d80f-4b4f-b255-1531538433b5"
      },
      "outputs": [
        {
          "name": "stdout",
          "output_type": "stream",
          "text": [
            "[0.9831649831649831, 0.9932659932659933, 0.9865319865319865]\n"
          ]
        }
      ],
      "source": [
        "def modelKSVM():\n",
        "  \"\"\"\n",
        "  Creates model objects for the Kernel SVM.\n",
        "  \"\"\"\n",
        "  \n",
        "  list_kernel_type = ['linear', 'poly', 'rbf']\n",
        "  random_state = 20 # Do not change this random_state\n",
        "\n",
        "  objs_KSVM = []\n",
        "  \n",
        "  # Create a list of objects for the classifier for each of the above \"kernel\" types\n",
        "  for kernel in list_kernel_type: \n",
        "      objs_KSVM.append(SVC(kernel = kernel, random_state = 20))\n",
        "  return objs_KSVM\n",
        "\n",
        "# Call the above function to train and test the Kernel SVM\n",
        "scores = train(modelKSVM(), X_train, y_train, X_test, y_test)\n",
        "print(scores)    "
      ]
    },
    {
      "cell_type": "markdown",
      "metadata": {
        "id": "8vSc15PpxyS2"
      },
      "source": [
        "## 2.3 Multi Layer Perceptron"
      ]
    },
    {
      "cell_type": "code",
      "execution_count": null,
      "metadata": {
        "colab": {
          "base_uri": "https://localhost:8080/"
        },
        "id": "ejmbeisHpBdO",
        "outputId": "c16770e8-416b-4eb7-b75c-3dbd36024e5d"
      },
      "outputs": [
        {
          "name": "stdout",
          "output_type": "stream",
          "text": [
            "[0.8585858585858586, 0.9461279461279462, 0.9292929292929293, 0.9629629629629629]\n"
          ]
        }
      ],
      "source": [
        "def modelMLP():\n",
        "  \"\"\"\n",
        "  Creates model objects for the Multi Layered Perceptron.\n",
        "  \"\"\"\n",
        "  \n",
        "  layerSizes = [(3), (10), (10,10,10), (20,50,20)]\n",
        "  random_state = 20 # Do not change this random_state\n",
        "  max_iter = 2000 # fixed max_iter\n",
        "  \n",
        "  objs_MLP = []\n",
        "\n",
        "  # Create a list of objects for the classifier for each of the above \"layerSizes\"\n",
        "  for layer_size in layerSizes: \n",
        "      objs_MLP.append(MLPClassifier(hidden_layer_sizes = layer_size, random_state = 20, max_iter = 2000))\n",
        "  return objs_MLP\n",
        "\n",
        "# Call the above function to train and test the Multi Layer Perceptron\n",
        "scores = train(modelMLP(), X_train, y_train, X_test, y_test)\n",
        "print(scores)"
      ]
    },
    {
      "cell_type": "markdown",
      "metadata": {
        "id": "82t0UEM2fYOM"
      },
      "source": [
        "## 2.4 AdaBoost"
      ]
    },
    {
      "cell_type": "code",
      "execution_count": null,
      "metadata": {
        "colab": {
          "base_uri": "https://localhost:8080/"
        },
        "id": "9mceSBJ_fXU0",
        "outputId": "9bd1ffab-c039-4e95-804b-82d000f736d6"
      },
      "outputs": [
        {
          "name": "stdout",
          "output_type": "stream",
          "text": [
            "[0.4377104377104377, 0.8249158249158249, 0.8316498316498316, 0.898989898989899, 0.9292929292929293, 0.9259259259259259]\n"
          ]
        }
      ],
      "source": [
        "def modelAdaBoost():\n",
        "  \"\"\"\n",
        "  Creates model objects for the AdaBoost.\n",
        "  \"\"\"\n",
        "  num_estimators = [1,5,10,50,100,150]\n",
        "  learning_rate = 0.1\n",
        "  max_depth = 3\n",
        "  random_state = 20 # Do not change this random_state\n",
        "  # Create a list of objects for the classifier for each of combination of above num_estimators and learning_rate\n",
        "  obj_boost = []\n",
        "\n",
        "  for estimator in num_estimators:\n",
        "      obj_boost.append(AdaBoostClassifier(n_estimators = estimator, learning_rate = 0.1, random_state = 20, base_estimator=DecisionTreeClassifier(max_depth=3)))\n",
        "  return obj_boost\n",
        "\n",
        "# Call the above function to train and test the AdaBoost Classifier\n",
        "scores = train(modelAdaBoost(), X_train, y_train, X_test, y_test)\n",
        "print(scores)"
      ]
    }
  ],
  "metadata": {
    "colab": {
      "collapsed_sections": [],
      "provenance": []
    },
    "kernelspec": {
      "display_name": "Python 3.7.9 64-bit (microsoft store)",
      "language": "python",
      "name": "python3"
    },
    "language_info": {
      "codemirror_mode": {
        "name": "ipython",
        "version": 3
      },
      "file_extension": ".py",
      "mimetype": "text/x-python",
      "name": "python",
      "nbconvert_exporter": "python",
      "pygments_lexer": "ipython3",
      "version": "3.7.9"
    },
    "vscode": {
      "interpreter": {
        "hash": "4c9320d000df43b1943364f3293d4c8dd0245e9fb4a3b90772b99a20272abe53"
      }
    }
  },
  "nbformat": 4,
  "nbformat_minor": 0
}
